{
 "cells": [
  {
   "cell_type": "code",
   "execution_count": null,
   "id": "e71ce9cb",
   "metadata": {},
   "outputs": [],
   "source": [
    "# install the nflfastpy package\n",
    "pip install nflfastpy"
   ]
  },
  {
   "cell_type": "code",
   "execution_count": null,
   "id": "9362923e",
   "metadata": {},
   "outputs": [],
   "source": [
    "# import the normal packages\n",
    "import pandas as pd\n",
    "import nflfastpy as nfl\n",
    "from matplotlib import pyplot as plt\n",
    "import seaborn as sns\n",
    "\n",
    "# additional stuff that will help us later on\n",
    "import requests\n",
    "from io import BytesIO"
   ]
  },
  {
   "cell_type": "code",
   "execution_count": null,
   "id": "155e6532",
   "metadata": {},
   "outputs": [],
   "source": [
    "# load in the play-by-play data\n",
    "df = nfl.load_pbp_data(2021)"
   ]
  },
  {
   "cell_type": "code",
   "execution_count": null,
   "id": "c732ce3e",
   "metadata": {},
   "outputs": [],
   "source": [
    "# see the first 5 rows of the dataset\n",
    "df.head()"
   ]
  },
  {
   "cell_type": "code",
   "execution_count": null,
   "id": "c85b87a5",
   "metadata": {},
   "outputs": [],
   "source": [
    "# see what the column names are\n",
    "df.columns"
   ]
  },
  {
   "cell_type": "code",
   "execution_count": null,
   "id": "d95dece7",
   "metadata": {},
   "outputs": [],
   "source": [
    "# look at specific columns\n",
    "df[[\"posteam\", \"defteam\", \"pass\", \"rush\", \"epa\"]].head()"
   ]
  },
  {
   "cell_type": "code",
   "execution_count": null,
   "id": "d138dc84",
   "metadata": {},
   "outputs": [],
   "source": [
    "# let's rank offenses from best to worst using epa\n",
    "df.groupby('posteam')[['epa']].mean().sort_values(by='epa', ascending=False)"
   ]
  },
  {
   "cell_type": "code",
   "execution_count": null,
   "id": "c9c4651f",
   "metadata": {},
   "outputs": [],
   "source": [
    "# let's do the same for QB's\n",
    "qbs = df.groupby(['passer_player_id','passer_player_name'], \n",
    "                 as_index=False).agg({'play_id':'count', 'epa':'mean','cpoe':'mean'})\n",
    "\n",
    "# at least 200 plays\n",
    "qbs = qbs.loc[qbs.play_id>199]\n",
    "\n",
    "# sort by EPA\n",
    "qbs.sort_values('epa', ascending=False, inplace=True)\n",
    "\n",
    "# round to two decimal places where appropriate\n",
    "qbs = qbs.round(2)\n",
    "\n",
    "# rename columns\n",
    "qbs.columns = ['ID','Player','Dropbacks','EPA','CPOE']\n",
    "\n",
    "qbs"
   ]
  },
  {
   "cell_type": "code",
   "execution_count": null,
   "id": "bf7a3419",
   "metadata": {},
   "outputs": [],
   "source": [
    "# Now we're going to make a yards past the sticks graph\n",
    "\n",
    "# filter to get the data we want\n",
    "df_passes = df.loc[(df['pass_attempt'] == 1) & (df['air_yards'].notnull()) & (df.down.isin([3, 4]))]\n",
    "\n",
    "# select the columns we need\n",
    "df_passes = df_passes[['passer_player_id', 'passer_player_name', 'posteam', 'down', 'ydstogo', 'air_yards']]\n",
    "\n",
    "# create a new column\n",
    "df_passes['yards_past_sticks'] = df_passes['air_yards'] - df_passes['ydstogo']\n",
    "\n",
    "# check the dataset to make sure everything is there\n",
    "df_passes.head(10)"
   ]
  },
  {
   "cell_type": "code",
   "execution_count": null,
   "id": "96dba329",
   "metadata": {},
   "outputs": [],
   "source": [
    "# get the top 10 passers in yards past sticks\n",
    "top_10 = df_passes.groupby(['passer_player_id', 'passer_player_name', 'posteam'], as_index=False)['yards_past_sticks'].sum().sort_values(by='yards_past_sticks', ascending=False)[:10]\n",
    "\n",
    "# load the team color logos\n",
    "team_logo_colors = nfl.load_team_logo_data()\n",
    "\n",
    "# see what the table looks like\n",
    "top_10\n",
    "\n",
    "# keep just the names from the top 10 in the passes dataset\n",
    "df_passes = df_passes.loc[df['passer_player_id'].isin(top_10['passer_player_id'])]\n",
    "\n",
    "# add the team colors\n",
    "df_passes = df_passes.merge(team_logo_colors[['team_abbr', 'team_color', 'team_color2']].rename(columns={'team_abbr': 'posteam'}), on='posteam')\n",
    "\n",
    "# see what the dataset looks like\n",
    "df_passes\n"
   ]
  },
  {
   "cell_type": "code",
   "execution_count": null,
   "id": "a8fc6d8e",
   "metadata": {},
   "outputs": [],
   "source": [
    "# create figure and axes\n",
    "# 5 here means 5 rows\n",
    "# 2 here means 2 columns\n",
    "# set the figsize to 10 inches x 15 inches\n",
    "fig, ax = plt.subplots(5, 2, figsize=(10, 15))\n",
    "\n",
    "# the ax object is a list of lists\n",
    "# this is a function that \"flattens\" the list of lists in to a single list\n",
    "flatten = lambda t: [item for sublist in t for item in sublist]\n",
    "\n",
    "# flatten our list of axis lists\n",
    "axes = flatten(ax)\n",
    "\n",
    "# separate our play by play df in to 10 seperate dfs\n",
    "players = [group[-1] for group in df_passes.groupby('passer_player_id')]\n",
    "\n",
    "# zip that ^ and the axes together and iterate over them\n",
    "for ax, player_df in zip(axes, players):\n",
    "\n",
    "    # plot YAC distribution\n",
    "    sns.kdeplot(player_df['yards_past_sticks'], ax=ax, lw=4, color=player_df['team_color'].values[0])\n",
    "    \n",
    "    # fill in the area underneath the curve\n",
    "    xy = ax.get_lines()[0].get_xydata()\n",
    "    x, y = xy[:, 0], xy[:, 1]\n",
    "    ax.fill_between(x, y, color=player_df['team_color'].values[0], alpha=0.4)\n",
    "    \n",
    "    # adjust y ticks to only include these values\n",
    "    ax.set_yticks([0, 0.1, 0.2])\n",
    "\n",
    "    # set the axis title\n",
    "    receiver_player_name = player_df['passer_player_name'].values[0]\n",
    "    ax.set_title(f'\\n{receiver_player_name}', fontsize=16, fontweight=450)\n",
    "\n",
    "    # set ylim and xlim\n",
    "    ax.set_ylim(bottom=0, top=0.20)\n",
    "    ax.set_xlim(left=-5, right=55)\n",
    "    \n",
    "    # set the title for the figure (not the axis's)\n",
    "    fig.suptitle(\"Top 10 QB's in Yards Past Sticks in 2021\", fontsize=18)\n",
    "    # add some margin between axis's\n",
    "    fig.tight_layout()\n",
    "    # adjust the subplots to add some room for the super title\n",
    "    fig.subplots_adjust(top=0.92)\n",
    "    # set figure background title\n",
    "    fig.set_facecolor('white')\n"
   ]
  }
 ],
 "metadata": {
  "kernelspec": {
   "display_name": "Python 3 (ipykernel)",
   "language": "python",
   "name": "python3"
  },
  "language_info": {
   "codemirror_mode": {
    "name": "ipython",
    "version": 3
   },
   "file_extension": ".py",
   "mimetype": "text/x-python",
   "name": "python",
   "nbconvert_exporter": "python",
   "pygments_lexer": "ipython3",
   "version": "3.9.7"
  }
 },
 "nbformat": 4,
 "nbformat_minor": 5
}
